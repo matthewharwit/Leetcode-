{
 "cells": [
  {
   "cell_type": "code",
   "execution_count": 1,
   "metadata": {},
   "outputs": [],
   "source": [
    "#Convert roman numerals to int\n"
   ]
  },
  {
   "cell_type": "code",
   "execution_count": 2,
   "metadata": {},
   "outputs": [],
   "source": [
    "# III = 3\n",
    "# IV = 4 \n",
    "# MCXC = 1990 "
   ]
  },
  {
   "cell_type": "code",
   "execution_count": 92,
   "metadata": {},
   "outputs": [],
   "source": [
    "s = 'MDXC'"
   ]
  },
  {
   "cell_type": "code",
   "execution_count": 4,
   "metadata": {},
   "outputs": [
    {
     "data": {
      "text/plain": [
       "'M'"
      ]
     },
     "execution_count": 4,
     "metadata": {},
     "output_type": "execute_result"
    }
   ],
   "source": [
    "s[0]"
   ]
  },
  {
   "cell_type": "code",
   "execution_count": 6,
   "metadata": {},
   "outputs": [
    {
     "data": {
      "text/plain": [
       "4"
      ]
     },
     "execution_count": 6,
     "metadata": {},
     "output_type": "execute_result"
    }
   ],
   "source": [
    "length = len(s)\n",
    "length"
   ]
  },
  {
   "cell_type": "code",
   "execution_count": 89,
   "metadata": {},
   "outputs": [],
   "source": []
  },
  {
   "cell_type": "code",
   "execution_count": 120,
   "metadata": {},
   "outputs": [
    {
     "data": {
      "text/plain": [
       "1994"
      ]
     },
     "execution_count": 120,
     "metadata": {},
     "output_type": "execute_result"
    }
   ],
   "source": [
    "#myanswer - works, but not very efficient. \n",
    "\n",
    "s = '\"MCMXCIV\"'\n",
    "\n",
    "number_list = []\n",
    "i = 0 \n",
    "for let in s:\n",
    "    if let == 'M':\n",
    "        number_list.append(1000)\n",
    "    if let == 'D':\n",
    "         number_list.append(500)\n",
    "    if let == 'C':\n",
    "         number_list.append(100) \n",
    "    if let == 'L':\n",
    "         number_list.append(50)\n",
    "    if let == 'X':\n",
    "         number_list.append(10)\n",
    "    if let == 'V':\n",
    "         number_list.append(5)\n",
    "    if let == 'I':\n",
    "         number_list.append(1)\n",
    "\n",
    "while i < len(number_list) - 1: \n",
    "    if number_list[i+1] > number_list[i]:\n",
    "        number_list[i] = number_list[i+1] - number_list[i]\n",
    "        number_list[i+1] = 0\n",
    "        i+=1\n",
    "    \n",
    "    i+=1\n",
    "\n",
    "s = 0\n",
    "\n",
    "for ele in range(0, len(number_list)):\n",
    "    s = s + number_list[ele]\n",
    "s    \n",
    "   \n",
    "           \n",
    "\n"
   ]
  },
  {
   "cell_type": "code",
   "execution_count": 109,
   "metadata": {},
   "outputs": [],
   "source": [
    "#optimal solution: work backwards (start with the last value)\n",
    "#store values in a dictionary. \n",
    "\n",
    "class Solution:\n",
    "# @param {string} s\n",
    "# @return {integer}\n",
    "def romanToInt(self, s):\n",
    "    roman = {'M': 1000,'D': 500 ,'C': 100,'L': 50,'X': 10,'V': 5,'I': 1}\n",
    "    z = 0\n",
    "    for i in range(0, len(s) - 1):\n",
    "        if roman[s[i]] < roman[s[i+1]]:\n",
    "            z -= roman[s[i]]\n",
    "        else:\n",
    "            z += roman[s[i]]\n",
    "    return z + roman[s[-1]]\n"
   ]
  },
  {
   "cell_type": "code",
   "execution_count": null,
   "metadata": {},
   "outputs": [],
   "source": []
  }
 ],
 "metadata": {
  "kernelspec": {
   "display_name": "Python 3",
   "language": "python",
   "name": "python3"
  },
  "language_info": {
   "codemirror_mode": {
    "name": "ipython",
    "version": 3
   },
   "file_extension": ".py",
   "mimetype": "text/x-python",
   "name": "python",
   "nbconvert_exporter": "python",
   "pygments_lexer": "ipython3",
   "version": "3.8.3"
  }
 },
 "nbformat": 4,
 "nbformat_minor": 4
}
