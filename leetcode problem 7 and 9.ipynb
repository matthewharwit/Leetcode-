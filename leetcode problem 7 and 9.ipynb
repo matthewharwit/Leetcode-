{
 "cells": [
  {
   "cell_type": "code",
   "execution_count": null,
   "metadata": {},
   "outputs": [],
   "source": [
    "#unsigned = a variable that can only accept positive numbers, 0 to 2^32 \n",
    "#signed = a variable that can accept negative and positive numbers -2^31 to 2^31"
   ]
  },
  {
   "cell_type": "code",
   "execution_count": null,
   "metadata": {},
   "outputs": [],
   "source": [
    "#problem: \n",
    "\n",
    "#assume a signed 32-bit integer (positive), reverse it. \n",
    "\n",
    "#example: input = 123. Output = 321. \n",
    "\n",
    "#if reversing input causes number to go outside of 32-bit integer range for a signed 32-bit integer (2^-31, 2^31, -1)\n",
    "\n",
    "#2^-31 = -2147483648 - aka negative 2.1 billion ish\n",
    "#2^31 = 2147483648 \n",
    "\n",
    "#unsigned 32-bit integer = 0 to 2*2147483648\n"
   ]
  },
  {
   "cell_type": "code",
   "execution_count": 4,
   "metadata": {},
   "outputs": [
    {
     "name": "stdout",
     "output_type": "stream",
     "text": [
      "Enter a number : 12332423\n",
      "32423321\n"
     ]
    }
   ],
   "source": [
    "\n",
    "n = int(input('Enter a number : '))\n",
    "reversed = int(str(n)[::-1])\n",
    "print(reversed)"
   ]
  },
  {
   "cell_type": "code",
   "execution_count": null,
   "metadata": {},
   "outputs": [],
   "source": [
    "reversed = int((n)[::-1])"
   ]
  },
  {
   "cell_type": "code",
   "execution_count": 139,
   "metadata": {},
   "outputs": [],
   "source": [
    "x = 0000\n",
    "y = str(x)[::-1]"
   ]
  },
  {
   "cell_type": "code",
   "execution_count": 140,
   "metadata": {},
   "outputs": [
    {
     "data": {
      "text/plain": [
       "'0'"
      ]
     },
     "execution_count": 140,
     "metadata": {},
     "output_type": "execute_result"
    }
   ],
   "source": [
    "y"
   ]
  },
  {
   "cell_type": "code",
   "execution_count": 1,
   "metadata": {},
   "outputs": [
    {
     "data": {
      "text/plain": [
       "'121'"
      ]
     },
     "execution_count": 1,
     "metadata": {},
     "output_type": "execute_result"
    }
   ],
   "source": [
    "x = 121\n",
    "y = str(x)[::-1]\n",
    "y"
   ]
  },
  {
   "cell_type": "code",
   "execution_count": 177,
   "metadata": {},
   "outputs": [
    {
     "data": {
      "text/plain": [
       "'41'"
      ]
     },
     "execution_count": 177,
     "metadata": {},
     "output_type": "execute_result"
    }
   ],
   "source": [
    "#brute force solution. Time complexity and space complexity not optimized.  \n",
    "\n",
    "x = 140\n",
    "x = str(x)[::-1]\n",
    "\n",
    "if str(x)[0] == '0' and len(str(x)) >1:\n",
    "    \n",
    "    i = 0\n",
    "    while str(x)[i] == '0':\n",
    "        i +=1 \n",
    "    x = x[i:]  \n",
    "    \n",
    "else:    \n",
    "    x = str(x)[::-1]\n",
    "if int(y) > 2147483648: \n",
    "    x = 0\n",
    "if int(y) < -2147483648:\n",
    "    x = 0\n",
    "    \n",
    "\n",
    "x\n"
   ]
  },
  {
   "cell_type": "code",
   "execution_count": 3,
   "metadata": {},
   "outputs": [],
   "source": [
    "import math"
   ]
  },
  {
   "cell_type": "code",
   "execution_count": 5,
   "metadata": {},
   "outputs": [
    {
     "data": {
      "text/plain": [
       "3"
      ]
     },
     "execution_count": 5,
     "metadata": {},
     "output_type": "execute_result"
    }
   ],
   "source": [
    "int(math.fmod(123,10))"
   ]
  },
  {
   "cell_type": "code",
   "execution_count": null,
   "metadata": {},
   "outputs": [],
   "source": [
    "#better solution: take the number % (mod it) by 10, to get the last digit. \n",
    "\n",
    "#ex: 123. 123 % 10 = 123/10 and what is the remainder? 3. Now do it again with 12. You get 2, do it again for 1, you get 1.\n",
    "#order them by order you did the % in: 321. \n",
    "\n",
    "\n",
    "#the hard part for this problem is the if number is greater than 32-bit number part. \n",
    "#trick: take the number 2147483648 and chop off (by using %) the 1's digit to get > 214748364.\n",
    "#if number inputed is = 214748364 then we just check the ones place. \n",
    "#if number in ones place is > 8, return 0, if its less than 8 on negative side, return 0\n",
    "\n",
    "Min = -2147483648\n",
    "Max = 2147483647\n",
    "\n",
    "result = 0\n",
    "\n",
    "while x:\n",
    "    digit = int(math.fmod(x,10)) #takes the number \"123\" and mods it by 10, you get remainder 3. \n",
    "    x = int(x/10) #123 = int(123/10) >> 12. Then you repeat again. 12 % 10 >> 2. Divide 12/10 get 1. Mod again. \n",
    "    #answer is then 3,2,1 >> 321 \n",
    "    \n",
    "    if (result > Max // 10 or # // >> discard remainder. Thus, gets rid of the last digit in the number. Doing this \n",
    "        #with Max means the number from result > Max. Can't store greater than 32-bit number. So this is how you filter for it \n",
    "    (result == Max // 10 and digit >= Max % 10)): # mod 10 >> isolate last number, remainder of number if divided by 10 \n",
    "        return 0\n",
    "    if (result < Min // 10 or\n",
    "    (result == Min // 10 and digit <= Min % 10)):\n",
    "        return 0\n",
    "    result = (result * 10) + digit \n",
    "    \n",
    "return result \n",
    "    \n",
    "        "
   ]
  },
  {
   "cell_type": "code",
   "execution_count": 8,
   "metadata": {},
   "outputs": [
    {
     "data": {
      "text/plain": [
       "214748364"
      ]
     },
     "execution_count": 8,
     "metadata": {},
     "output_type": "execute_result"
    }
   ],
   "source": [
    "2147483648 // 10\n"
   ]
  },
  {
   "cell_type": "code",
   "execution_count": 11,
   "metadata": {},
   "outputs": [
    {
     "data": {
      "text/plain": [
       "2"
      ]
     },
     "execution_count": 11,
     "metadata": {},
     "output_type": "execute_result"
    }
   ],
   "source": [
    "2147483648 % 9 #mod 9 >> take number, divide by 9, find remainder. "
   ]
  },
  {
   "cell_type": "code",
   "execution_count": 12,
   "metadata": {},
   "outputs": [
    {
     "data": {
      "text/plain": [
       "238609294.2222222"
      ]
     },
     "execution_count": 12,
     "metadata": {},
     "output_type": "execute_result"
    }
   ],
   "source": [
    "2147483648 / 9"
   ]
  },
  {
   "cell_type": "code",
   "execution_count": 13,
   "metadata": {},
   "outputs": [
    {
     "data": {
      "text/plain": [
       "214748364.8"
      ]
     },
     "execution_count": 13,
     "metadata": {},
     "output_type": "execute_result"
    }
   ],
   "source": [
    "2147483648 / 10\n"
   ]
  },
  {
   "cell_type": "code",
   "execution_count": 19,
   "metadata": {},
   "outputs": [
    {
     "data": {
      "text/plain": [
       "1"
      ]
     },
     "execution_count": 19,
     "metadata": {},
     "output_type": "execute_result"
    }
   ],
   "source": [
    "10 //10"
   ]
  },
  {
   "cell_type": "code",
   "execution_count": 20,
   "metadata": {},
   "outputs": [
    {
     "data": {
      "text/plain": [
       "10"
      ]
     },
     "execution_count": 20,
     "metadata": {},
     "output_type": "execute_result"
    }
   ],
   "source": [
    "100//10"
   ]
  },
  {
   "cell_type": "code",
   "execution_count": 21,
   "metadata": {},
   "outputs": [
    {
     "data": {
      "text/plain": [
       "0"
      ]
     },
     "execution_count": 21,
     "metadata": {},
     "output_type": "execute_result"
    }
   ],
   "source": [
    "10 % 10"
   ]
  },
  {
   "cell_type": "code",
   "execution_count": null,
   "metadata": {},
   "outputs": [],
   "source": [
    "#for palindrome problem:\n",
    "#using a string takes up non-constant space. Other ways to do this? \n",
    "#best way is to revert the second half of the number, and compare it to the first part. \n",
    "#if its the same, then its a palindrome.\n",
    "#space complexity: amount of memory used. If you have to store a number as a str(int) - then that takes up space, so its less efficient\n",
    "#time complexity, how long it takes to run - faster, better. \n",
    "#o(n^2) means it takes n^2 amount of time to run, if n is number of items in the input.\n",
    "#constant extra space >> amount of extra memory needed doesn't vary with the number of items processed. \n",
    "#for both time and space, we are interested in the asymptomtic complexity of the algorithim: when n (number of inputs)\n",
    "# goes to infinity, how does the algorithm perform? \n",
    "\n",
    "#simple solution:\n",
    "\n",
    "class Solution:\n",
    "    def isPalindrome(self, x: int) -> bool:\n",
    "        \n",
    "        if str(x)[0] == '-':\n",
    "            return False\n",
    "        result = str(x)[::-1]\n",
    "        \n",
    "        if int(result) == x:\n",
    "            return True \n",
    "        else:\n",
    "            return False \n",
    "\n",
    "\n",
    "\n",
    "\n"
   ]
  }
 ],
 "metadata": {
  "kernelspec": {
   "display_name": "Python 3",
   "language": "python",
   "name": "python3"
  },
  "language_info": {
   "codemirror_mode": {
    "name": "ipython",
    "version": 3
   },
   "file_extension": ".py",
   "mimetype": "text/x-python",
   "name": "python",
   "nbconvert_exporter": "python",
   "pygments_lexer": "ipython3",
   "version": "3.8.3"
  }
 },
 "nbformat": 4,
 "nbformat_minor": 4
}
